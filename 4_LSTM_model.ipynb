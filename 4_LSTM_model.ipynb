{
  "nbformat": 4,
  "nbformat_minor": 0,
  "metadata": {
    "colab": {
      "name": "4_LSTM model.ipynb",
      "provenance": [],
      "collapsed_sections": []
    },
    "kernelspec": {
      "name": "python3",
      "display_name": "Python 3"
    }
  },
  "cells": [
    {
      "cell_type": "markdown",
      "metadata": {
        "id": "qo-gHfWDjAUK"
      },
      "source": [
        "### **5. LSTM MODEL**"
      ]
    },
    {
      "cell_type": "code",
      "metadata": {
        "id": "SMb4-s1WOhPt"
      },
      "source": [
        "### Create the Stacked LSTM model\n",
        "from tensorflow.keras.models import Sequential\n",
        "from tensorflow.keras.layers import Dense\n",
        "from tensorflow.keras.layers import LSTM\n",
        "from tensorflow.keras.layers import Dense, Embedding, LSTM, Dropout, Flatten\n",
        "model=Sequential()\n",
        "model.add(LSTM(50,return_sequences=True,input_shape=(100,1)))\n",
        "model.add(LSTM(50,return_sequences=True))\n",
        "model.add(LSTM(50))\n",
        "model.add(Dense(1))\n",
        "model.compile(loss='mean_squared_error',optimizer='adam')"
      ],
      "execution_count": null,
      "outputs": []
    },
    {
      "cell_type": "code",
      "metadata": {
        "colab": {
          "base_uri": "https://localhost:8080/"
        },
        "id": "CNxVhrCbOtlZ",
        "outputId": "552134ca-62aa-4b50-8f4a-9f6a47eed563"
      },
      "source": [
        "model.summary()"
      ],
      "execution_count": null,
      "outputs": [
        {
          "output_type": "stream",
          "text": [
            "Model: \"sequential_1\"\n",
            "_________________________________________________________________\n",
            "Layer (type)                 Output Shape              Param #   \n",
            "=================================================================\n",
            "lstm_3 (LSTM)                (None, 100, 50)           10400     \n",
            "_________________________________________________________________\n",
            "lstm_4 (LSTM)                (None, 100, 50)           20200     \n",
            "_________________________________________________________________\n",
            "lstm_5 (LSTM)                (None, 50)                20200     \n",
            "_________________________________________________________________\n",
            "dense_1 (Dense)              (None, 1)                 51        \n",
            "=================================================================\n",
            "Total params: 50,851\n",
            "Trainable params: 50,851\n",
            "Non-trainable params: 0\n",
            "_________________________________________________________________\n"
          ],
          "name": "stdout"
        }
      ]
    },
    {
      "cell_type": "code",
      "metadata": {
        "colab": {
          "base_uri": "https://localhost:8080/"
        },
        "id": "ZiW0Q--dkP3b",
        "outputId": "cd3a1ea2-2666-45e9-c5f6-3d91917eb86f"
      },
      "source": [
        "model.fit(X_train,y_train,validation_data=(X_test,y_test),epochs=50,batch_size=64,verbose=1)"
      ],
      "execution_count": null,
      "outputs": [
        {
          "output_type": "stream",
          "text": [
            "Epoch 1/50\n",
            "21/21 [==============================] - 9s 233ms/step - loss: 0.0075 - val_loss: 0.0101\n",
            "Epoch 2/50\n",
            "21/21 [==============================] - 4s 193ms/step - loss: 3.9559e-04 - val_loss: 0.0017\n",
            "Epoch 3/50\n",
            "21/21 [==============================] - 4s 191ms/step - loss: 1.6100e-04 - val_loss: 0.0014\n",
            "Epoch 4/50\n",
            "21/21 [==============================] - 4s 191ms/step - loss: 1.2880e-04 - val_loss: 0.0015\n",
            "Epoch 5/50\n",
            "21/21 [==============================] - 4s 191ms/step - loss: 1.1463e-04 - val_loss: 0.0015\n",
            "Epoch 6/50\n",
            "21/21 [==============================] - 4s 195ms/step - loss: 1.1122e-04 - val_loss: 0.0014\n",
            "Epoch 7/50\n",
            "21/21 [==============================] - 4s 189ms/step - loss: 1.1239e-04 - val_loss: 0.0013\n",
            "Epoch 8/50\n",
            "21/21 [==============================] - 4s 192ms/step - loss: 1.0949e-04 - val_loss: 0.0012\n",
            "Epoch 9/50\n",
            "21/21 [==============================] - 4s 188ms/step - loss: 1.1045e-04 - val_loss: 0.0012\n",
            "Epoch 10/50\n",
            "21/21 [==============================] - 4s 189ms/step - loss: 9.4024e-05 - val_loss: 0.0016\n",
            "Epoch 11/50\n",
            "21/21 [==============================] - 4s 193ms/step - loss: 1.0008e-04 - val_loss: 0.0013\n",
            "Epoch 12/50\n",
            "21/21 [==============================] - 4s 191ms/step - loss: 9.7448e-05 - val_loss: 0.0014\n",
            "Epoch 13/50\n",
            "21/21 [==============================] - 4s 190ms/step - loss: 9.9041e-05 - val_loss: 0.0013\n",
            "Epoch 14/50\n",
            "21/21 [==============================] - 4s 188ms/step - loss: 9.1016e-05 - val_loss: 9.5735e-04\n",
            "Epoch 15/50\n",
            "21/21 [==============================] - 4s 188ms/step - loss: 8.6665e-05 - val_loss: 9.5227e-04\n",
            "Epoch 16/50\n",
            "21/21 [==============================] - 4s 196ms/step - loss: 8.9351e-05 - val_loss: 0.0014\n",
            "Epoch 17/50\n",
            "21/21 [==============================] - 4s 190ms/step - loss: 7.8470e-05 - val_loss: 0.0012\n",
            "Epoch 18/50\n",
            "21/21 [==============================] - 4s 192ms/step - loss: 7.8676e-05 - val_loss: 0.0016\n",
            "Epoch 19/50\n",
            "21/21 [==============================] - 4s 189ms/step - loss: 1.0071e-04 - val_loss: 0.0017\n",
            "Epoch 20/50\n",
            "21/21 [==============================] - 4s 187ms/step - loss: 8.1253e-05 - val_loss: 0.0011\n",
            "Epoch 21/50\n",
            "21/21 [==============================] - 4s 190ms/step - loss: 8.1670e-05 - val_loss: 0.0011\n",
            "Epoch 22/50\n",
            "21/21 [==============================] - 4s 191ms/step - loss: 7.9245e-05 - val_loss: 0.0010\n",
            "Epoch 23/50\n",
            "21/21 [==============================] - 4s 188ms/step - loss: 7.6562e-05 - val_loss: 7.6028e-04\n",
            "Epoch 24/50\n",
            "21/21 [==============================] - 4s 193ms/step - loss: 8.6156e-05 - val_loss: 7.0515e-04\n",
            "Epoch 25/50\n",
            "21/21 [==============================] - 4s 190ms/step - loss: 7.3850e-05 - val_loss: 9.8314e-04\n",
            "Epoch 26/50\n",
            "21/21 [==============================] - 4s 193ms/step - loss: 7.1639e-05 - val_loss: 9.7476e-04\n",
            "Epoch 27/50\n",
            "21/21 [==============================] - 4s 194ms/step - loss: 6.4646e-05 - val_loss: 7.1783e-04\n",
            "Epoch 28/50\n",
            "21/21 [==============================] - 4s 190ms/step - loss: 7.8241e-05 - val_loss: 8.4301e-04\n",
            "Epoch 29/50\n",
            "21/21 [==============================] - 4s 192ms/step - loss: 8.2390e-05 - val_loss: 8.2953e-04\n",
            "Epoch 30/50\n",
            "21/21 [==============================] - 4s 193ms/step - loss: 6.7028e-05 - val_loss: 6.2716e-04\n",
            "Epoch 31/50\n",
            "21/21 [==============================] - 4s 195ms/step - loss: 6.9359e-05 - val_loss: 7.6169e-04\n",
            "Epoch 32/50\n",
            "21/21 [==============================] - 4s 195ms/step - loss: 6.6994e-05 - val_loss: 8.8868e-04\n",
            "Epoch 33/50\n",
            "21/21 [==============================] - 4s 191ms/step - loss: 6.2520e-05 - val_loss: 8.3225e-04\n",
            "Epoch 34/50\n",
            "21/21 [==============================] - 4s 190ms/step - loss: 6.0090e-05 - val_loss: 8.3570e-04\n",
            "Epoch 35/50\n",
            "21/21 [==============================] - 4s 191ms/step - loss: 6.3785e-05 - val_loss: 6.1340e-04\n",
            "Epoch 36/50\n",
            "21/21 [==============================] - 4s 191ms/step - loss: 6.4397e-05 - val_loss: 5.8545e-04\n",
            "Epoch 37/50\n",
            "21/21 [==============================] - 4s 189ms/step - loss: 6.1312e-05 - val_loss: 8.1983e-04\n",
            "Epoch 38/50\n",
            "21/21 [==============================] - 4s 190ms/step - loss: 6.0834e-05 - val_loss: 9.5268e-04\n",
            "Epoch 39/50\n",
            "21/21 [==============================] - 4s 190ms/step - loss: 7.4517e-05 - val_loss: 6.2610e-04\n",
            "Epoch 40/50\n",
            "21/21 [==============================] - 4s 190ms/step - loss: 6.6272e-05 - val_loss: 6.1539e-04\n",
            "Epoch 41/50\n",
            "21/21 [==============================] - 4s 188ms/step - loss: 5.8272e-05 - val_loss: 5.7307e-04\n",
            "Epoch 42/50\n",
            "21/21 [==============================] - 4s 191ms/step - loss: 5.8565e-05 - val_loss: 0.0014\n",
            "Epoch 43/50\n",
            "21/21 [==============================] - 4s 190ms/step - loss: 6.4400e-05 - val_loss: 7.5855e-04\n",
            "Epoch 44/50\n",
            "21/21 [==============================] - 4s 195ms/step - loss: 5.5007e-05 - val_loss: 5.9766e-04\n",
            "Epoch 45/50\n",
            "21/21 [==============================] - 4s 190ms/step - loss: 5.6358e-05 - val_loss: 5.3580e-04\n",
            "Epoch 46/50\n",
            "21/21 [==============================] - 4s 191ms/step - loss: 5.5737e-05 - val_loss: 7.0049e-04\n",
            "Epoch 47/50\n",
            "21/21 [==============================] - 4s 193ms/step - loss: 5.2304e-05 - val_loss: 5.2340e-04\n",
            "Epoch 48/50\n",
            "21/21 [==============================] - 4s 196ms/step - loss: 5.2841e-05 - val_loss: 5.3525e-04\n",
            "Epoch 49/50\n",
            "21/21 [==============================] - 4s 193ms/step - loss: 5.2883e-05 - val_loss: 8.8223e-04\n",
            "Epoch 50/50\n",
            "21/21 [==============================] - 4s 191ms/step - loss: 5.4791e-05 - val_loss: 5.3743e-04\n"
          ],
          "name": "stdout"
        },
        {
          "output_type": "execute_result",
          "data": {
            "text/plain": [
              "<tensorflow.python.keras.callbacks.History at 0x7f8cf9285fd0>"
            ]
          },
          "metadata": {
            "tags": []
          },
          "execution_count": 90
        }
      ]
    },
    {
      "cell_type": "code",
      "metadata": {
        "id": "uhygIOVasw2T",
        "colab": {
          "base_uri": "https://localhost:8080/"
        },
        "outputId": "0128cc07-60a4-4037-8d21-d3a140b9b5e7"
      },
      "source": [
        "### Lets Do the prediction and check performance metrics\n",
        "train_predict=model.predict(X_train)\n",
        "test_predict=model.predict(X_test)\n",
        "\n",
        "##Transform back to original form\n",
        "train_predict=scaler.inverse_transform(train_predict)\n",
        "test_predict=scaler.inverse_transform(test_predict)\n",
        "\n",
        "### Calculate RMSE performance metrics\n",
        "import math\n",
        "from sklearn.metrics import mean_squared_error\n",
        "print(\"TRAIN RMSE:\", math.sqrt(mean_squared_error(y_train,train_predict)))\n",
        "\n",
        "### Test Data RMSE\n",
        "print(\"TEST RMSE:\", math.sqrt(mean_squared_error(y_test,test_predict)))"
      ],
      "execution_count": null,
      "outputs": [
        {
          "output_type": "stream",
          "text": [
            "TRAIN RMSE: 104.6258353988683\n",
            "TEST RMSE: 237.12298845949982\n"
          ],
          "name": "stdout"
        }
      ]
    },
    {
      "cell_type": "code",
      "metadata": {
        "id": "JI7S1Rd1OzK5",
        "colab": {
          "base_uri": "https://localhost:8080/",
          "height": 265
        },
        "outputId": "9101bef6-cc84-4d4e-87fc-c254e51ee890"
      },
      "source": [
        "### Plotting the actual versus the predicted Apple stock price values\n",
        "# shift train predictions for plotting\n",
        "look_back=100\n",
        "trainPredictPlot = np.empty_like(df_apple)\n",
        "trainPredictPlot[:, :] = np.nan\n",
        "trainPredictPlot[look_back:len(train_predict)+look_back, :] = train_predict\n",
        "# shift test predictions for plotting\n",
        "testPredictPlot = np.empty_like(df_apple)\n",
        "testPredictPlot[:, :] = np.nan\n",
        "testPredictPlot[len(train_predict)+(look_back*2)+1:len(df_apple)-1, :] = test_predict\n",
        "# plot baseline and predictions\n",
        "plt.plot(df_apple)\n",
        "plt.plot(trainPredictPlot)\n",
        "plt.plot(testPredictPlot)\n",
        "plt.show()"
      ],
      "execution_count": null,
      "outputs": [
        {
          "output_type": "display_data",
          "data": {
            "image/png": "[encoded data removed]",
            "text/plain": [
              "<Figure size 432x288 with 1 Axes>"
            ]
          },
          "metadata": {
            "tags": [],
            "needs_background": "light"
          }
        }
      ]
    },
    {
      "cell_type": "markdown",
      "metadata": {
        "id": "2bRvkuWtDwgI"
      },
      "source": [
        "* The blue line in the graph indicates the actual data\n",
        "* The orange graph indicates the train predict \n",
        "* The green graph indicates the test predict"
      ]
    },
    {
      "cell_type": "code",
      "metadata": {
        "id": "iNZwy7fMDxIW"
      },
      "source": [
        "x_input=test_data[656:].reshape(1,-1)\n",
        "temp_input=list(x_input)\n",
        "temp_input=temp_input[0].tolist()"
      ],
      "execution_count": null,
      "outputs": []
    },
    {
      "cell_type": "code",
      "metadata": {
        "colab": {
          "base_uri": "https://localhost:8080/"
        },
        "id": "7eDUCBquDxVT",
        "outputId": "044f5bfc-5b92-4335-8660-7995a8fedfd9"
      },
      "source": [
        "# demonstrate prediction for next 30 days\n",
        "from numpy import array\n",
        "\n",
        "lst_output=[]\n",
        "n_steps=100\n",
        "i=0\n",
        "while(i<30):\n",
        "    \n",
        "    if(len(temp_input)>100):\n",
        "        x_input=np.array(temp_input[1:])\n",
        "        x_input=x_input.reshape(1,-1)\n",
        "        x_input = x_input.reshape((1, n_steps, 1))\n",
        "        yhat = model.predict(x_input, verbose=0)\n",
        "        print(\"{} day output {}\".format(i,yhat))\n",
        "        temp_input.extend(yhat[0].tolist())\n",
        "        temp_input=temp_input[1:]\n",
        "        lst_output.extend(yhat.tolist())\n",
        "        i=i+1\n",
        "    else:\n",
        "        x_input = x_input.reshape((1, n_steps,1))\n",
        "        yhat = model.predict(x_input, verbose=0)\n",
        "        print(yhat[0])\n",
        "        temp_input.extend(yhat[0].tolist())\n",
        "        (len(temp_input))\n",
        "        lst_output.extend(yhat.tolist())\n",
        "        i=i+1\n",
        "\n",
        "print(lst_output)"
      ],
      "execution_count": null,
      "outputs": [
        {
          "output_type": "stream",
          "text": [
            "[1.0233853]\n",
            "1 day output [[1.0371361]]\n",
            "2 day output [[1.0477033]]\n",
            "3 day output [[1.0565381]]\n",
            "4 day output [[1.0643027]]\n",
            "5 day output [[1.0711967]]\n",
            "6 day output [[1.0772058]]\n",
            "7 day output [[1.0822499]]\n",
            "8 day output [[1.0862601]]\n",
            "9 day output [[1.0892029]]\n",
            "10 day output [[1.0910836]]\n",
            "11 day output [[1.0919381]]\n",
            "12 day output [[1.0918217]]\n",
            "13 day output [[1.090803]]\n",
            "14 day output [[1.088955]]\n",
            "15 day output [[1.0863537]]\n",
            "16 day output [[1.0830749]]\n",
            "17 day output [[1.0791941]]\n",
            "18 day output [[1.0747837]]\n",
            "19 day output [[1.0699153]]\n",
            "20 day output [[1.064657]]\n",
            "21 day output [[1.0590746]]\n",
            "22 day output [[1.0532312]]\n",
            "23 day output [[1.0471853]]\n",
            "24 day output [[1.0409937]]\n",
            "25 day output [[1.034708]]\n",
            "26 day output [[1.0283769]]\n",
            "27 day output [[1.0220453]]\n",
            "28 day output [[1.0157546]]\n",
            "29 day output [[1.0095412]]\n",
            "[[1.0233852863311768], [1.0371360778808594], [1.0477032661437988], [1.0565381050109863], [1.064302682876587], [1.0711966753005981], [1.077205777168274], [1.0822498798370361], [1.0862600803375244], [1.089202880859375], [1.0910836458206177], [1.0919381380081177], [1.0918216705322266], [1.0908030271530151], [1.088955044746399], [1.0863536596298218], [1.083074927330017], [1.0791940689086914], [1.0747836828231812], [1.0699152946472168], [1.0646569728851318], [1.0590746402740479], [1.0532312393188477], [1.0471853017807007], [1.0409936904907227], [1.034708023071289], [1.0283769369125366], [1.0220452547073364], [1.0157545804977417], [1.0095411539077759]]\n"
          ],
          "name": "stdout"
        }
      ]
    },
    {
      "cell_type": "code",
      "metadata": {
        "colab": {
          "base_uri": "https://localhost:8080/",
          "height": 282
        },
        "id": "G6DKteq9EFkf",
        "outputId": "44a5f08e-9661-4aea-ffca-f7a47363fc98"
      },
      "source": [
        "# Prediction of future 30 days stock price data\n",
        "import matplotlib.pyplot as plt\n",
        "day_new=np.arange(1,101)\n",
        "day_pred=np.arange(101,131)\n",
        "\n",
        "plt.plot(day_new,df_apple[2059:])\n",
        "plt.plot(day_pred,scaler.inverse_transform(lst_output))\n"
      ],
      "execution_count": null,
      "outputs": [
        {
          "output_type": "execute_result",
          "data": {
            "text/plain": [
              "[<matplotlib.lines.Line2D at 0x7f8cf6873c10>]"
            ]
          },
          "metadata": {
            "tags": []
          },
          "execution_count": 95
        },
        {
          "output_type": "display_data",
          "data": {
            "image/png": "[encoded data removed]",
            "text/plain": [
              "<Figure size 432x288 with 1 Axes>"
            ]
          },
          "metadata": {
            "tags": [],
            "needs_background": "light"
          }
        }
      ]
    },
    {
      "cell_type": "markdown",
      "metadata": {
        "id": "ALHuY9qvUxrD"
      },
      "source": [
        "The orange line here shows the plot of the future 30 days prediction "
      ]
    },
    {
      "cell_type": "code",
      "metadata": {
        "colab": {
          "base_uri": "https://localhost:8080/",
          "height": 282
        },
        "id": "51g2hFa2EF6X",
        "outputId": "59d7a9b4-edd8-4bc3-94c4-916fdbe706e4"
      },
      "source": [
        "# Extending the output to constantly fit the curve\n",
        "df_3=df_price_scaled.tolist()\n",
        "df_3.extend(lst_output)\n",
        "plt.plot(df_3[2100:])\n"
      ],
      "execution_count": null,
      "outputs": [
        {
          "output_type": "execute_result",
          "data": {
            "text/plain": [
              "[<matplotlib.lines.Line2D at 0x7f8cf698e9d0>]"
            ]
          },
          "metadata": {
            "tags": []
          },
          "execution_count": 96
        },
        {
          "output_type": "display_data",
          "data": {
            "image/png": "[encoded data removed]",
            "text/plain": [
              "<Figure size 432x288 with 1 Axes>"
            ]
          },
          "metadata": {
            "tags": [],
            "needs_background": "light"
          }
        }
      ]
    },
    {
      "cell_type": "code",
      "metadata": {
        "colab": {
          "base_uri": "https://localhost:8080/",
          "height": 282
        },
        "id": "ETZoO7zoEXey",
        "outputId": "b9513925-2bf2-4980-d1b3-2b889b6db74b"
      },
      "source": [
        "# Predicted stock prices with the future 30 predicted days \n",
        "# More smooth curve mainly inverse transform\n",
        "df_3=scaler.inverse_transform(df_3).tolist()\n",
        "plt.plot(df_3)\n"
      ],
      "execution_count": null,
      "outputs": [
        {
          "output_type": "execute_result",
          "data": {
            "text/plain": [
              "[<matplotlib.lines.Line2D at 0x7f8cf683e1d0>]"
            ]
          },
          "metadata": {
            "tags": []
          },
          "execution_count": 97
        },
        {
          "output_type": "display_data",
          "data": {
            "image/png": "[encoded data removed]",
            "text/plain": [
              "<Figure size 432x288 with 1 Axes>"
            ]
          },
          "metadata": {
            "tags": [],
            "needs_background": "light"
          }
        }
      ]
    }
  ]
}